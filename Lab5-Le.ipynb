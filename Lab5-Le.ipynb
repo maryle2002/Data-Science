{
 "cells": [
  {
   "cell_type": "markdown",
   "id": "2e545432",
   "metadata": {},
   "source": [
    "# Lab 5: KNN\n",
    "In this assignment, we will learn the KNN model.\n",
    "\n",
    "First, please study the given example, which uses the KNN model for the breast cancer classification task. In this example, you will learn how to preprocess data, how to train the model, and how to evaluate the model.\n",
    "\n",
    "Based on the given example, your task is to use the KNN model to predict the presence of heart disease."
   ]
  },
  {
   "cell_type": "markdown",
   "id": "0ca79ee9",
   "metadata": {},
   "source": [
    "## 1. Example"
   ]
  },
  {
   "cell_type": "markdown",
   "id": "db9e8a4c",
   "metadata": {},
   "source": [
    "### 1.1 Load the breast cancer data"
   ]
  },
  {
   "cell_type": "code",
   "execution_count": 1,
   "id": "7b2b4ee1",
   "metadata": {},
   "outputs": [
    {
     "name": "stdout",
     "output_type": "stream",
     "text": [
      "#samples: 569, #features: 30\n"
     ]
    }
   ],
   "source": [
    "import numpy as np\n",
    "from sklearn.model_selection import train_test_split\n",
    "from sklearn import datasets\n",
    "from sklearn.preprocessing import StandardScaler\n",
    "from sklearn.model_selection import GridSearchCV\n",
    "from sklearn.neighbors import KNeighborsClassifier\n",
    "from sklearn.metrics import accuracy_score, f1_score\n",
    "from sklearn.metrics import f1_score\n",
    "from sklearn.metrics import recall_score\n",
    "from sklearn.metrics import precision_score\n",
    "from random import shuffle\n",
    "import random\n",
    "random.seed(123)\n",
    "\n",
    "X, y = datasets.load_breast_cancer(return_X_y=True)\n",
    "print(\"#samples: {}, #features: {}\".format(X.shape[0], X.shape[1]))"
   ]
  },
  {
   "cell_type": "markdown",
   "id": "d3249eef",
   "metadata": {},
   "source": [
    "### 1.2 Split the data into two subsets and normalize the features of samples"
   ]
  },
  {
   "cell_type": "code",
   "execution_count": 2,
   "id": "a41dbf63",
   "metadata": {},
   "outputs": [
    {
     "name": "stdout",
     "output_type": "stream",
     "text": [
      "train_val: 500, test: 69\n"
     ]
    }
   ],
   "source": [
    "X_train_val, X_test, y_train_val, y_test = train_test_split(X, y, \n",
    "                                                            test_size=0.12, \n",
    "                                                            random_state=0)\n",
    "print(\"train_val: {}, test: {}\".format(X_train_val.shape[0], X_test.shape[0]))\n",
    "\n",
    "normalizer = StandardScaler()\n",
    "X_train_val = normalizer.fit_transform(X_train_val)\n",
    "X_test = normalizer.transform(X_test)"
   ]
  },
  {
   "cell_type": "markdown",
   "id": "770788c7",
   "metadata": {},
   "source": [
    "### 1.3 Train the KNN model and select the hyperparameter with cross-validation"
   ]
  },
  {
   "cell_type": "code",
   "execution_count": 3,
   "id": "104484ee",
   "metadata": {},
   "outputs": [
    {
     "name": "stdout",
     "output_type": "stream",
     "text": [
      "0.9640000000000001\n",
      "{'n_neighbors': 4}\n"
     ]
    }
   ],
   "source": [
    "# ignore warning\n",
    "from warnings import simplefilter\n",
    "simplefilter(action='ignore', category=FutureWarning)\n",
    "\n",
    "k_range = range(1, 5)\n",
    "param_grid = dict(n_neighbors=k_range)\n",
    "\n",
    "clf_knn =  KNeighborsClassifier(n_neighbors=1)\n",
    "\n",
    "grid = GridSearchCV(clf_knn, param_grid, cv=5, scoring='accuracy')\n",
    "grid.fit(X_train_val, y_train_val)\n",
    "\n",
    "print(grid.best_score_)\n",
    "print(grid.best_params_)"
   ]
  },
  {
   "cell_type": "markdown",
   "id": "dc01de60",
   "metadata": {},
   "source": [
    "### 1.4 Evaluate the learned model"
   ]
  },
  {
   "cell_type": "code",
   "execution_count": 4,
   "id": "0999894c",
   "metadata": {},
   "outputs": [
    {
     "name": "stdout",
     "output_type": "stream",
     "text": [
      "accuracy: 0.971, recall: 0.975, precision: 0.975, f1: 0.975,\n"
     ]
    }
   ],
   "source": [
    "clf_knn =  KNeighborsClassifier(n_neighbors=grid.best_params_['n_neighbors'])\n",
    "clf_knn.fit(X_train_val, y_train_val)\n",
    "\n",
    "# evaluate the model on the testing set\n",
    "y_test_pred = clf_knn.predict(X_test)\n",
    "\n",
    "\n",
    "acc = accuracy_score(y_test, y_test_pred)\n",
    "f1 = f1_score(y_test, y_test_pred)\n",
    "recall = recall_score(y_test, y_test_pred)\n",
    "precision = precision_score(y_test, y_test_pred)\n",
    "\n",
    "\n",
    "print(\"accuracy: {:.3f}, recall: {:.3f}, precision: {:.3f}, f1: {:.3f},\".format(acc, recall, precision, f1))"
   ]
  },
  {
   "cell_type": "markdown",
   "id": "d330446e",
   "metadata": {},
   "source": [
    "## 2. Task"
   ]
  },
  {
   "cell_type": "markdown",
   "id": "0a81eace",
   "metadata": {},
   "source": [
    "### 2.1 Preprocess the raw data\n",
    "- Check whether there are missing values\n",
    "- Check whether theare are cateogrical features\n",
    "- Check whether this dataset is balanced or not (use the bar plot to visualize the number of positive and negative samples)\n"
   ]
  },
  {
   "cell_type": "code",
   "execution_count": 5,
   "id": "3fd7d1d6",
   "metadata": {},
   "outputs": [],
   "source": [
    "import pandas as pd\n",
    "df = pd.read_csv('https://raw.githubusercontent.com/maryle2002/CIS3715_DataScience_2023/main/Lab05/heart.csv')"
   ]
  },
  {
   "cell_type": "code",
   "execution_count": 6,
   "id": "624f5125",
   "metadata": {},
   "outputs": [
    {
     "name": "stdout",
     "output_type": "stream",
     "text": [
      "age         0\n",
      "sex         0\n",
      "cp          0\n",
      "trestbps    0\n",
      "chol        0\n",
      "fbs         0\n",
      "restecg     0\n",
      "thalach     0\n",
      "exang       0\n",
      "oldpeak     0\n",
      "slope       0\n",
      "ca          0\n",
      "thal        0\n",
      "target      0\n",
      "dtype: int64\n",
      "\n",
      "\u001b[1mThere are no missing values\n"
     ]
    }
   ],
   "source": [
    "# Check whether there are missing values\n",
    "print(df.isnull().sum())\n",
    "print(\"\\n\\033[1mThere are no missing values\")"
   ]
  },
  {
   "cell_type": "code",
   "execution_count": 7,
   "id": "3e5c73ff",
   "metadata": {},
   "outputs": [
    {
     "name": "stdout",
     "output_type": "stream",
     "text": [
      "<class 'pandas.core.frame.DataFrame'>\n",
      "RangeIndex: 303 entries, 0 to 302\n",
      "Data columns (total 14 columns):\n",
      " #   Column    Non-Null Count  Dtype  \n",
      "---  ------    --------------  -----  \n",
      " 0   age       303 non-null    int64  \n",
      " 1   sex       303 non-null    int64  \n",
      " 2   cp        303 non-null    int64  \n",
      " 3   trestbps  303 non-null    int64  \n",
      " 4   chol      303 non-null    int64  \n",
      " 5   fbs       303 non-null    int64  \n",
      " 6   restecg   303 non-null    int64  \n",
      " 7   thalach   303 non-null    int64  \n",
      " 8   exang     303 non-null    int64  \n",
      " 9   oldpeak   303 non-null    float64\n",
      " 10  slope     303 non-null    int64  \n",
      " 11  ca        303 non-null    int64  \n",
      " 12  thal      303 non-null    int64  \n",
      " 13  target    303 non-null    int64  \n",
      "dtypes: float64(1), int64(13)\n",
      "memory usage: 33.3 KB\n",
      "None\n"
     ]
    }
   ],
   "source": [
    "# Check whether theare are cateogrical features\n",
    "print(df.info())"
   ]
  },
  {
   "cell_type": "code",
   "execution_count": 8,
   "id": "aaef6cce",
   "metadata": {},
   "outputs": [
    {
     "name": "stdout",
     "output_type": "stream",
     "text": [
      "\n",
      "\u001b[1mThe dataset is balanced\n",
      "\n"
     ]
    },
    {
     "data": {
      "image/png": "[encoded data removed]",
      "text/plain": [
       "<Figure size 640x480 with 1 Axes>"
      ]
     },
     "metadata": {},
     "output_type": "display_data"
    }
   ],
   "source": [
    "import matplotlib.pyplot as plt\n",
    "\n",
    "# Check whether this dataset is balanced or not (use the bar plot to visualize the number of positive and negative samples)\n",
    "plt.bar(df['target'].value_counts().index, df['target'].value_counts().values, color = ['#c4b2d9','#7a52aa'])\n",
    "plt.xticks([0,1],['Healthy','Heart Disease'])\n",
    "plt.title('Number of People With and Without Heart Disease', fontweight='heavy')\n",
    "print('\\n\\033[1mThe dataset is balanced\\n')"
   ]
  },
  {
   "cell_type": "markdown",
   "id": "304e96c9",
   "metadata": {},
   "source": [
    "### 2.2 Split the data into two subsets and normalize the features of samples\n",
    "- Split the dataset into the train_val set and testing set.\n",
    "- Normalize features"
   ]
  },
  {
   "cell_type": "code",
   "execution_count": 9,
   "id": "479316de",
   "metadata": {},
   "outputs": [
    {
     "name": "stdout",
     "output_type": "stream",
     "text": [
      "[0.2739, 0.2574, 0.2409, 0.2244, 0.2079, 0.1914, 0.1749, 0.1584, 0.1419, 0.1254, 0.1089, 0.0924, 0.0759, 0.0594, 0.0429, 0.0264, 0.0099]\n",
      "\n",
      "\u001b[1mI choose 0.2079 as the test size\n"
     ]
    }
   ],
   "source": [
    "# Check for possible test sizes for 5-fold cross validation\n",
    "folds = 5\n",
    "possible_test_sizes = [round(1 - x/df.shape[0], ndigits=4) for x in range(220, 303, folds)]\n",
    "print(possible_test_sizes)\n",
    "print('\\n\\033[1mI choose 0.2079 as the test size')"
   ]
  },
  {
   "cell_type": "code",
   "execution_count": 10,
   "id": "4c75e63d",
   "metadata": {},
   "outputs": [
    {
     "name": "stdout",
     "output_type": "stream",
     "text": [
      "samples: 303, train_val: 240, test: 63\n"
     ]
    }
   ],
   "source": [
    "# Split the dataset into the train_val set and testing set\n",
    "heart_data = df.drop('target', axis = 1).values\n",
    "heart_disease = df['target'].values\n",
    "X_train_val, X_test, y_train_val, y_test = train_test_split(heart_data, heart_disease, \n",
    "                                                            test_size = 0.2079, \n",
    "                                                            random_state = 0)\n",
    "print(f'samples: {heart_data.shape[0]}, train_val: {X_train_val.shape[0]}, test: {X_test.shape[0]}')"
   ]
  },
  {
   "cell_type": "code",
   "execution_count": 11,
   "id": "6337620e",
   "metadata": {},
   "outputs": [],
   "source": [
    "# Normalize features\n",
    "normalizer = StandardScaler()\n",
    "X_train_val = normalizer.fit_transform(X_train_val)\n",
    "X_test = normalizer.transform(X_test)"
   ]
  },
  {
   "cell_type": "markdown",
   "id": "1b909068",
   "metadata": {},
   "source": [
    "### 2.3 Train the KNN model and select the hyperparameter with cross-validation\n",
    "- Use the 5-fold cross-validation to select the hyperparameter K.\n",
    "- Search K from {1, 2, 3, 4, 5}"
   ]
  },
  {
   "cell_type": "code",
   "execution_count": 12,
   "id": "29c2fe14",
   "metadata": {},
   "outputs": [
    {
     "name": "stdout",
     "output_type": "stream",
     "text": [
      "0.8125\n",
      "{'n_neighbors': 5}\n"
     ]
    }
   ],
   "source": [
    "k_range = range(1, 6)\n",
    "param_grid = dict(n_neighbors=k_range)\n",
    "\n",
    "clf_knn = KNeighborsClassifier(n_neighbors=1)\n",
    "\n",
    "grid = GridSearchCV(clf_knn, param_grid, cv=5, scoring='accuracy')\n",
    "grid.fit(X_train_val, y_train_val)\n",
    "\n",
    "print(grid.best_score_)\n",
    "print(grid.best_params_)"
   ]
  },
  {
   "cell_type": "markdown",
   "id": "d1ec8af8",
   "metadata": {},
   "source": [
    "### 2.4 Evaluate the learned model\n",
    "- Report the prediction accuracy, recall, precision, and F1 score.\n",
    "- Note that you should implement the code for these metrics by yourself. Please do NOT use the built-in function in sklearn."
   ]
  },
  {
   "cell_type": "code",
   "execution_count": 13,
   "id": "2b7993f4",
   "metadata": {},
   "outputs": [],
   "source": [
    "clf_knn =  KNeighborsClassifier(n_neighbors = grid.best_params_['n_neighbors'])\n",
    "clf_knn.fit(X_train_val, y_train_val)\n",
    "\n",
    "# evaluate the model on the testing set\n",
    "y_test_pred = clf_knn.predict(X_test)"
   ]
  },
  {
   "cell_type": "markdown",
   "id": "b042afde",
   "metadata": {},
   "source": [
    "Define functions to calculate accuracy, recall, precision, and F1 score:"
   ]
  },
  {
   "cell_type": "code",
   "execution_count": 14,
   "id": "d0ccd65d",
   "metadata": {},
   "outputs": [],
   "source": [
    "def calculate_true_positive(y, y_hat):\n",
    "    return np.sum([a == 1 and b == 1 for (a, b) in zip(y, y_hat)])\n",
    "\n",
    "def calculate_false_positive(y, y_hat):\n",
    "    return np.sum([a == 0 and b == 1 for (a, b) in zip(y, y_hat)])\n",
    "\n",
    "def calculate_false_negative(y, y_hat):\n",
    "    return np.sum([a == 1 and b == 0 for (a, b) in zip(y, y_hat)])\n",
    "\n",
    "def calculate_true_negative(y, y_hat):\n",
    "    return np.sum([a == 0 and b == 0 for (a, b) in zip(y, y_hat)])\n",
    "\n",
    "def calculate_accuracy(y, y_hat):\n",
    "    number_of_correct_predictions = np.sum(y == y_hat)\n",
    "    total_number_of_predictions = y.size\n",
    "    return number_of_correct_predictions / total_number_of_predictions\n",
    "\n",
    "def calculate_recall(y, y_hat):\n",
    "    tp = calculate_true_positive(y, y_hat)\n",
    "    fn = calculate_false_negative(y, y_hat)\n",
    "    return tp / (tp + fn)\n",
    "\n",
    "def calculate_precision(y, y_hat):\n",
    "    tp = calculate_true_positive(y, y_hat)\n",
    "    fp = calculate_false_positive(y, y_hat)\n",
    "    return tp / (tp + fp)\n",
    "\n",
    "def calculate_f1(y, y_hat):\n",
    "    recall = calculate_recall(y, y_hat)\n",
    "    precision = calculate_precision(y, y_hat)\n",
    "    return (2 * recall * precision) / (recall + precision)"
   ]
  },
  {
   "cell_type": "code",
   "execution_count": 15,
   "id": "5c144cae",
   "metadata": {},
   "outputs": [
    {
     "name": "stdout",
     "output_type": "stream",
     "text": [
      "accuracy: 0.8253968253968254, recall: 0.8611111111111112, precision: 0.8378378378378378, f1: 0.8493150684931507\n"
     ]
    }
   ],
   "source": [
    "print(f'accuracy: {calculate_accuracy(y_test, y_test_pred)}, recall: {calculate_recall(y_test, y_test_pred)}, precision: {calculate_precision(y_test, y_test_pred)}, f1: {calculate_f1(y_test, y_test_pred)}')\n"
   ]
  },
  {
   "cell_type": "markdown",
   "id": "4fd48678",
   "metadata": {},
   "source": [
    "Verify calculations using sklearn:"
   ]
  },
  {
   "cell_type": "code",
   "execution_count": 16,
   "id": "01168f61",
   "metadata": {},
   "outputs": [
    {
     "name": "stdout",
     "output_type": "stream",
     "text": [
      "accuracy: 0.825, recall: 0.861, precision: 0.838, f1: 0.849\n"
     ]
    }
   ],
   "source": [
    "ml_acc = accuracy_score(y_test, y_test_pred)\n",
    "ml_f1 = f1_score(y_test, y_test_pred)\n",
    "ml_recall = recall_score(y_test, y_test_pred)\n",
    "ml_precision = precision_score(y_test, y_test_pred)\n",
    "\n",
    "print(f'accuracy: {ml_acc:.3f}, recall: {ml_recall:.3f}, precision: {ml_precision:.3f}, f1: {ml_f1:.3f}')"
   ]
  }
 ],
 "metadata": {
  "kernelspec": {
   "display_name": "Python 3 (ipykernel)",
   "language": "python",
   "name": "python3"
  },
  "language_info": {
   "codemirror_mode": {
    "name": "ipython",
    "version": 3
   },
   "file_extension": ".py",
   "mimetype": "text/x-python",
   "name": "python",
   "nbconvert_exporter": "python",
   "pygments_lexer": "ipython3",
   "version": "3.9.13"
  }
 },
 "nbformat": 4,
 "nbformat_minor": 5
}
