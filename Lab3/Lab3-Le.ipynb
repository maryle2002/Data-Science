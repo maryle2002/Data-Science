{
 "cells": [
  {
   "cell_type": "markdown",
   "id": "36dfcd4b",
   "metadata": {},
   "source": [
    "# Lab 3: Linear Regression\n",
    "In this assignment, we will learn the Linear Regression model."
   ]
  },
  {
   "cell_type": "markdown",
   "id": "598a7757",
   "metadata": {},
   "source": [
    "## 1. Example: Linear Regression for House Price Prediction\n",
    "In this example, we use the house price dataset. It gives the attributes and price of each house. The task is to build a linear regression model to make prediction for the price of the house."
   ]
  },
  {
   "cell_type": "markdown",
   "id": "36d05d6a",
   "metadata": {},
   "source": [
    "### 1.1 Preprocess the raw data"
   ]
  },
  {
   "cell_type": "code",
   "execution_count": 1,
   "id": "8b2ff5fa",
   "metadata": {},
   "outputs": [
    {
     "name": "stdout",
     "output_type": "stream",
     "text": [
      "longitude             0\n",
      "latitude              0\n",
      "housing_median_age    0\n",
      "total_rooms           0\n",
      "total_bedrooms        0\n",
      "population            0\n",
      "households            0\n",
      "median_income         0\n",
      "median_house_value    0\n",
      "ocean_proximity       0\n",
      "dtype: int64\n",
      "\n",
      "\n",
      "<class 'pandas.core.frame.DataFrame'>\n",
      "RangeIndex: 20640 entries, 0 to 20639\n",
      "Data columns (total 10 columns):\n",
      " #   Column              Non-Null Count  Dtype  \n",
      "---  ------              --------------  -----  \n",
      " 0   longitude           20640 non-null  float64\n",
      " 1   latitude            20640 non-null  float64\n",
      " 2   housing_median_age  20640 non-null  int64  \n",
      " 3   total_rooms         20640 non-null  int64  \n",
      " 4   total_bedrooms      20640 non-null  float64\n",
      " 5   population          20640 non-null  int64  \n",
      " 6   households          20640 non-null  int64  \n",
      " 7   median_income       20640 non-null  float64\n",
      " 8   median_house_value  20640 non-null  int64  \n",
      " 9   ocean_proximity     20640 non-null  int64  \n",
      "dtypes: float64(4), int64(6)\n",
      "memory usage: 1.6 MB\n",
      "None\n"
     ]
    }
   ],
   "source": [
    "import pandas as pd\n",
    "import numpy as np\n",
    "from sklearn.preprocessing import LabelEncoder\n",
    "from sklearn.model_selection import train_test_split\n",
    "from sklearn.preprocessing import StandardScaler\n",
    "from sklearn.linear_model import LinearRegression, Ridge, Lasso\n",
    "from sklearn.metrics import mean_absolute_error,mean_squared_error\n",
    "import matplotlib.pyplot as plt\n",
    "\n",
    "\n",
    "df = pd.read_csv('https://raw.githubusercontent.com/cisdatasciencetu/CIS3715_DataScience_2023/main/Lab03/housing.csv')\n",
    "# 0. fill in missing values\n",
    "mean_val = df['total_bedrooms'].mean()\n",
    "df['total_bedrooms'] = df['total_bedrooms'].fillna(mean_val)\n",
    "print(df.isnull().sum())\n",
    "\n",
    "# 1. convert categorical features to numerical values\n",
    "labelencoder = LabelEncoder()\n",
    "df['ocean_proximity'] = labelencoder.fit_transform(df['ocean_proximity'])\n",
    "print(\"\\n\")\n",
    "print(df.info())"
   ]
  },
  {
   "cell_type": "markdown",
   "id": "6153ab6c",
   "metadata": {},
   "source": [
    "### 1.2 Split the preprocessed dataset into training set and testing set"
   ]
  },
  {
   "cell_type": "code",
   "execution_count": 2,
   "id": "174a3bc6",
   "metadata": {},
   "outputs": [
    {
     "name": "stdout",
     "output_type": "stream",
     "text": [
      "(16512, 9)\n",
      "(4128, 9)\n"
     ]
    }
   ],
   "source": [
    "# 2. split samples\n",
    "house_fea = df.drop('median_house_value', axis=1).values\n",
    "house_price = df['median_house_value'].values\n",
    "house_price = house_price / np.max(house_price)\n",
    "\n",
    "X_train,X_test,y_train,y_test = train_test_split(house_fea,\n",
    "                                                 house_price,\n",
    "                                                 test_size=0.2,\n",
    "                                                 random_state=42)\n",
    "print(X_train.shape)\n",
    "print(X_test.shape)\n",
    "\n",
    "\n",
    "# normalize features\n",
    "normalizer = StandardScaler()\n",
    "X_train = normalizer.fit_transform(X_train)\n",
    "X_test = normalizer.transform(X_test)"
   ]
  },
  {
   "cell_type": "markdown",
   "id": "07728897",
   "metadata": {},
   "source": [
    "### 1.3 Train the linear regression model"
   ]
  },
  {
   "cell_type": "code",
   "execution_count": 3,
   "id": "cbd13b4e",
   "metadata": {},
   "outputs": [
    {
     "name": "stdout",
     "output_type": "stream",
     "text": [
      "bias is 0.41438855869860675\n",
      "coefficients  is [-0.17170955 -0.18189176  0.02984855 -0.0353864   0.09753502 -0.08776816\n",
      "  0.03520256  0.15428789 -0.00090304]\n",
      "prediction for training set:\n",
      "MAE is: 0.10125365457873203\n",
      "MSE is: 0.0192437559440504\n",
      "RMSE is: 0.13872186541439818\n"
     ]
    }
   ],
   "source": [
    "#3. train the model\n",
    "lr = LinearRegression()\n",
    "\n",
    "lr.fit(X_train,y_train)\n",
    "\n",
    "print(\"bias is \"+str(lr.intercept_))\n",
    "print(\"coefficients  is \"+str(lr.coef_))\n",
    "\n",
    "y_train_pred = lr.predict(X_train)\n",
    "\n",
    "mae = mean_absolute_error(y_train_pred,y_train)\n",
    "mse = mean_squared_error(y_train_pred,y_train)\n",
    "rmse = np.sqrt(mse)\n",
    "\n",
    "print('prediction for training set:')\n",
    "print('MAE is: {}'.format(mae))\n",
    "print('MSE is: {}'.format(mse))\n",
    "print('RMSE is: {}'.format(rmse))"
   ]
  },
  {
   "cell_type": "markdown",
   "id": "ae851388",
   "metadata": {},
   "source": [
    "### 1.4 Evaluate the linear regression model\n"
   ]
  },
  {
   "cell_type": "code",
   "execution_count": 4,
   "id": "666aa545",
   "metadata": {},
   "outputs": [
    {
     "name": "stdout",
     "output_type": "stream",
     "text": [
      "prediction for testing set:\n",
      "MAE is: 0.10369354831097966\n",
      "MSE is: 0.02022001958450323\n",
      "RMSE is: 0.14219711524677014\n"
     ]
    },
    {
     "data": {
      "image/png": "[encoded data removed]",
      "text/plain": [
       "<Figure size 640x480 with 1 Axes>"
      ]
     },
     "metadata": {},
     "output_type": "display_data"
    }
   ],
   "source": [
    "#4. evaluate the model\n",
    "y_test_pred = lr.predict(X_test)\n",
    "\n",
    "mae = mean_absolute_error(y_test_pred,y_test)\n",
    "mse = mean_squared_error(y_test_pred,y_test)\n",
    "rmse = np.sqrt(mse)\n",
    "\n",
    "print('prediction for testing set:')\n",
    "print('MAE is: {}'.format(mae))\n",
    "print('MSE is: {}'.format(mse))\n",
    "print('RMSE is: {}'.format(rmse))\n",
    "\n",
    "\n",
    "labels = ['House1', 'House2', 'House3', 'House4', 'House5']\n",
    "x = np.arange(len(labels))  # the label locations\n",
    "width = 0.35  # the width of the bars\n",
    "\n",
    "fig, ax = plt.subplots()\n",
    "rects1 = ax.bar(x - width/2, y_test[0:5], width, label='ground truth')\n",
    "rects2 = ax.bar(x + width/2, y_test_pred[0:5], width, label='prediction')\n",
    "\n",
    "ax.set_ylabel('Price')\n",
    "ax.set_xticks(x)\n",
    "ax.set_xticklabels(labels)\n",
    "ax.legend()\n",
    "\n",
    "plt.show()"
   ]
  },
  {
   "cell_type": "markdown",
   "id": "424ac41e",
   "metadata": {},
   "source": [
    "## 2. Task: Linear Regression for Medical Cost Prediction\n",
    "Following the given example, build a linear regression model for the insurance dataset to predict the medical cost.\n",
    "\n"
   ]
  },
  {
   "cell_type": "markdown",
   "id": "1f5b3d34",
   "metadata": {},
   "source": [
    "### 2.1 Preprocess the raw data"
   ]
  },
  {
   "cell_type": "code",
   "execution_count": 5,
   "id": "2c640748",
   "metadata": {},
   "outputs": [
    {
     "name": "stdout",
     "output_type": "stream",
     "text": [
      "   age     sex     bmi  children smoker     region      charges\n",
      "0   19  female  27.900         0    yes  southwest  16884.92400\n",
      "1   18    male  33.770         1     no  southeast   1725.55230\n",
      "2   28    male  33.000         3     no  southeast   4449.46200\n",
      "3   33    male  22.705         0     no  northwest  21984.47061\n",
      "4   32    male  28.880         0     no  northwest   3866.85520\n",
      "\n",
      "feature     missing values\n",
      "-------     --------------\n",
      "age         0\n",
      "sex         0\n",
      "bmi         0\n",
      "children    0\n",
      "smoker      0\n",
      "region      0\n",
      "charges     0\n",
      "dtype: int64\n"
     ]
    }
   ],
   "source": [
    "insur = pd.read_csv('https://raw.githubusercontent.com/cisdatasciencetu/CIS3715_DataScience_2023/main/Lab03/insurance.csv')\n",
    "\n",
    "print(insur.head())\n",
    "\n",
    "print(\"\\nfeature     missing values\")\n",
    "print(\"-------     --------------\")\n",
    "print(insur.isnull().sum())"
   ]
  },
  {
   "cell_type": "code",
   "execution_count": 6,
   "id": "37e8bc14",
   "metadata": {},
   "outputs": [
    {
     "name": "stdout",
     "output_type": "stream",
     "text": [
      "   age  sex     bmi  children  smoker  region      charges\n",
      "0   19    0  27.900         0       1       3  16884.92400\n",
      "1   18    1  33.770         1       0       2   1725.55230\n",
      "2   28    1  33.000         3       0       2   4449.46200\n",
      "3   33    1  22.705         0       0       1  21984.47061\n",
      "4   32    1  28.880         0       0       1   3866.85520\n"
     ]
    }
   ],
   "source": [
    "# convert categorical features to numerical values\n",
    "labelencoder = LabelEncoder()\n",
    "insur['sex'] = labelencoder.fit_transform(insur['sex'])\n",
    "insur['smoker'] = labelencoder.fit_transform(insur['smoker'])\n",
    "insur['region'] = labelencoder.fit_transform(insur['region'])\n",
    "\n",
    "print(insur.head())"
   ]
  },
  {
   "cell_type": "markdown",
   "id": "2aba186a",
   "metadata": {},
   "source": [
    "### 2.2 Split the preprocessed dataset into training set and testing set"
   ]
  },
  {
   "cell_type": "code",
   "execution_count": 7,
   "id": "ec3c882b",
   "metadata": {},
   "outputs": [
    {
     "name": "stdout",
     "output_type": "stream",
     "text": [
      "[[19.    0.   27.9   0.    1.    3.  ]\n",
      " [18.    1.   33.77  1.    0.    2.  ]\n",
      " [28.    1.   33.    3.    0.    2.  ]\n",
      " ...\n",
      " [18.    0.   36.85  0.    0.    2.  ]\n",
      " [21.    0.   25.8   0.    0.    3.  ]\n",
      " [61.    0.   29.07  0.    1.    1.  ]]\n",
      "\n",
      "\n",
      "[0.26477671 0.02705882 0.06977312 ... 0.02555783 0.03148709 0.45697295]\n"
     ]
    }
   ],
   "source": [
    "feature = insur.drop('charges', axis=1).values\n",
    "print(feature)\n",
    "print(\"\\n\")\n",
    "\n",
    "charges = insur['charges'].values\n",
    "charges = charges / np.max(charges)\n",
    "print(charges)\n",
    "\n",
    "X_train,X_test,y_train,y_test = train_test_split(feature,\n",
    "                                                 charges,\n",
    "                                                 test_size=0.2,\n",
    "                                                 random_state=42)\n"
   ]
  },
  {
   "cell_type": "code",
   "execution_count": 8,
   "id": "5146b240",
   "metadata": {},
   "outputs": [
    {
     "name": "stdout",
     "output_type": "stream",
     "text": [
      "(1070, 6)\n",
      "(268, 6)\n",
      "(1070,)\n",
      "(268,)\n"
     ]
    }
   ],
   "source": [
    "print(X_train.shape)\n",
    "print(X_test.shape)\n",
    "print(y_train.shape)\n",
    "print(y_test.shape)"
   ]
  },
  {
   "cell_type": "code",
   "execution_count": 9,
   "id": "2178055f",
   "metadata": {},
   "outputs": [],
   "source": [
    "# normalize features\n",
    "normalizer = StandardScaler()\n",
    "X_train = normalizer.fit_transform(X_train)\n",
    "X_test = normalizer.transform(X_test)"
   ]
  },
  {
   "cell_type": "markdown",
   "id": "0470fd29",
   "metadata": {},
   "source": [
    "### 2.3 Train the linear regression model"
   ]
  },
  {
   "cell_type": "code",
   "execution_count": 10,
   "id": "81e4c41e",
   "metadata": {},
   "outputs": [
    {
     "name": "stdout",
     "output_type": "stream",
     "text": [
      "Bias: 0.20928336460705027\n",
      "Coefficients: [ 5.67051024e-02 -1.47293258e-04  3.18064131e-02  8.10191467e-03\n",
      "  1.49867951e-01 -4.74182139e-03]\n",
      "\n",
      "Prediction for Training Set\n",
      "MAE: 0.0659986479709151\n",
      "MSE: 0.00916737434945697\n",
      "RMSE: 0.09574640645714579\n"
     ]
    }
   ],
   "source": [
    "lnr = LinearRegression()\n",
    "\n",
    "lnr.fit(X_train,y_train)\n",
    "\n",
    "print(\"Bias: {}\".format(lnr.intercept_))\n",
    "print(\"Coefficients: {}\".format(lnr.coef_))\n",
    "\n",
    "y_train_pred = lnr.predict(X_train)\n",
    "\n",
    "mae = mean_absolute_error(y_train_pred,y_train)\n",
    "mse = mean_squared_error(y_train_pred,y_train)\n",
    "rmse = np.sqrt(mse)\n",
    "\n",
    "print('\\nPrediction for Training Set')\n",
    "print('MAE: {}'.format(mae))\n",
    "print('MSE: {}'.format(mse))\n",
    "print('RMSE: {}'.format(rmse))"
   ]
  },
  {
   "cell_type": "markdown",
   "id": "cff56599",
   "metadata": {},
   "source": [
    "### 2.4 Evaluate the linear regression model\n"
   ]
  },
  {
   "cell_type": "code",
   "execution_count": 11,
   "id": "85871be2",
   "metadata": {},
   "outputs": [
    {
     "name": "stdout",
     "output_type": "stream",
     "text": [
      "Prediction for Testing Set\n",
      "MAE: 0.06564969107169769\n",
      "MSE: 0.008270951713078178\n",
      "RMSE: 0.09094477287386109\n"
     ]
    },
    {
     "data": {
      "image/png": "[encoded data removed]",
      "text/plain": [
       "<Figure size 640x480 with 1 Axes>"
      ]
     },
     "metadata": {},
     "output_type": "display_data"
    }
   ],
   "source": [
    "y_test_pred = lnr.predict(X_test)\n",
    "\n",
    "mae = mean_absolute_error(y_test_pred,y_test)\n",
    "mse = mean_squared_error(y_test_pred,y_test)\n",
    "rmse = np.sqrt(mse)\n",
    "\n",
    "print('Prediction for Testing Set')\n",
    "print('MAE: {}'.format(mae))\n",
    "print('MSE: {}'.format(mse))\n",
    "print('RMSE: {}'.format(rmse))\n",
    "\n",
    "\n",
    "labels = ['Charge 1', 'Charge 2', 'Charge 3', 'Charge 4', 'Charge 5']\n",
    "x = np.arange(len(labels))  # the label locations\n",
    "width = 0.35  # the width of the bars\n",
    "\n",
    "fig, ax = plt.subplots()\n",
    "rects1 = ax.bar(x - width/2, y_test[0:5], width, label='ground truth')\n",
    "rects2 = ax.bar(x + width/2, y_test_pred[0:5], width, label='prediction')\n",
    "\n",
    "ax.set_ylabel('Charge')\n",
    "ax.set_xticks(x)\n",
    "ax.set_xticklabels(labels)\n",
    "ax.set_title(\"Prediction vs Ground Truth\")\n",
    "ax.legend()\n",
    "\n",
    "plt.show()"
   ]
  },
  {
   "cell_type": "markdown",
   "id": "d0cdef09",
   "metadata": {},
   "source": [
    "### 2.5 Use the ridge regression model to do prediction\n"
   ]
  },
  {
   "cell_type": "code",
   "execution_count": 12,
   "id": "717e5822",
   "metadata": {},
   "outputs": [
    {
     "name": "stdout",
     "output_type": "stream",
     "text": [
      "Ridge Regression with lambda value of 1\n",
      "Bias: 0.20928336460705027\n",
      "Coefficients: \n",
      "Prediction for Testing Set\n",
      "MAE: 0.06567262940074668\n",
      "MSE: 0.008272576669548308\n",
      "RMSE: 0.09095370618918346\n",
      "\n",
      "Ridge Regression with lambda value of .5\n",
      "Bias: 0.20928336460705027\n",
      "Coefficients: [ 5.66763901e-02 -1.42097922e-04  3.17939348e-02  8.10077598e-03\n",
      "  1.49796105e-01 -4.73766172e-03]\n",
      "Prediction for Testing Set\n",
      "MAE: 0.06566116640105915\n",
      "MSE: 0.008271758135158376\n",
      "RMSE: 0.09094920634705053\n",
      "\n",
      "Ridge Regression with lambda value of 2\n",
      "Bias: 0.20928336460705027\n",
      "Coefficients: [ 5.65904294e-02 -1.26570140e-04  3.17565563e-02  8.09735070e-03\n",
      "  1.49580983e-01 -4.72521546e-03]\n",
      "Prediction for Testing Set\n",
      "MAE: 0.06569551848974613\n",
      "MSE: 0.008274249930384794\n",
      "RMSE: 0.0909629041444082\n"
     ]
    }
   ],
   "source": [
    "rr = Ridge(alpha = 1)\n",
    "print('Ridge Regression with lambda value of 1')\n",
    "\n",
    "rr.fit(X_train,y_train)\n",
    "\n",
    "print(\"Bias: {}\".format(rr.intercept_))\n",
    "print(\"Coefficients: \".format(rr.coef_))\n",
    "\n",
    "y_test_pred = rr.predict(X_test)\n",
    "\n",
    "mae = mean_absolute_error(y_test_pred,y_test)\n",
    "mse = mean_squared_error(y_test_pred,y_test)\n",
    "rmse = np.sqrt(mse)\n",
    "\n",
    "print('Prediction for Testing Set')\n",
    "print('MAE: {}'.format(mae))\n",
    "print('MSE: {}'.format(mse))\n",
    "print('RMSE: {}'.format(rmse))\n",
    "\n",
    "rr = Ridge(alpha = .5)\n",
    "print('\\nRidge Regression with lambda value of .5')\n",
    "\n",
    "rr.fit(X_train,y_train)\n",
    "\n",
    "print(\"Bias: {}\".format(rr.intercept_))\n",
    "print(\"Coefficients: {}\".format(rr.coef_))\n",
    "\n",
    "y_test_pred = rr.predict(X_test)\n",
    "\n",
    "mae = mean_absolute_error(y_test_pred,y_test)\n",
    "mse = mean_squared_error(y_test_pred,y_test)\n",
    "rmse = np.sqrt(mse)\n",
    "\n",
    "print('Prediction for Testing Set')\n",
    "print('MAE: {}'.format(mae))\n",
    "print('MSE: {}'.format(mse))\n",
    "print('RMSE: {}'.format(rmse))\n",
    "\n",
    "rr = Ridge(alpha = 2)\n",
    "print('\\nRidge Regression with lambda value of 2')\n",
    "\n",
    "rr.fit(X_train,y_train)\n",
    "\n",
    "print(\"Bias: {}\".format(rr.intercept_))\n",
    "print(\"Coefficients: {}\".format(rr.coef_))\n",
    "\n",
    "y_test_pred = rr.predict(X_test)\n",
    "\n",
    "mae = mean_absolute_error(y_test_pred,y_test)\n",
    "mse = mean_squared_error(y_test_pred,y_test)\n",
    "rmse = np.sqrt(mse)\n",
    "\n",
    "print('Prediction for Testing Set')\n",
    "print('MAE: {}'.format(mae))\n",
    "print('MSE: {}'.format(mse))\n",
    "print('RMSE: {}'.format(rmse))\n"
   ]
  }
 ],
 "metadata": {
  "kernelspec": {
   "display_name": "Python 3 (ipykernel)",
   "language": "python",
   "name": "python3"
  },
  "language_info": {
   "codemirror_mode": {
    "name": "ipython",
    "version": 3
   },
   "file_extension": ".py",
   "mimetype": "text/x-python",
   "name": "python",
   "nbconvert_exporter": "python",
   "pygments_lexer": "ipython3",
   "version": "3.9.13"
  }
 },
 "nbformat": 4,
 "nbformat_minor": 5
}
